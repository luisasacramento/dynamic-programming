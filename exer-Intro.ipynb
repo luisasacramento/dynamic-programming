{
 "cells": [
  {
   "cell_type": "code",
   "execution_count": 1,
   "metadata": {},
   "outputs": [
    {
     "name": "stdout",
     "output_type": "stream",
     "text": [
      "o terceiro mês do ano é: Março\n"
     ]
    }
   ],
   "source": [
    "meses = ('Janeiro', 'Fevereiro', 'Março', 'Abril', 'Maio', 'Junho', 'Julho', 'Agosto', 'Setembro', 'Outubro', 'Novembro', 'Dezembro')\n",
    "\n",
    "print(\"o terceiro mês do ano é:\", meses[2])"
   ]
  },
  {
   "cell_type": "code",
   "execution_count": 2,
   "metadata": {},
   "outputs": [
    {
     "name": "stdout",
     "output_type": "stream",
     "text": [
      "Os meses do segundo ao quarto são:  ('Fevereiro', 'Março', 'Abril')\n"
     ]
    }
   ],
   "source": [
    "print(\"Os meses do segundo ao quarto são: \", meses[1:4])"
   ]
  },
  {
   "cell_type": "code",
   "execution_count": 3,
   "metadata": {},
   "outputs": [
    {
     "name": "stdout",
     "output_type": "stream",
     "text": [
      "['Maça', 'Banana', 'Morango', 'Abacaxi', 'Uva']\n"
     ]
    }
   ],
   "source": [
    "frutas = ['Maça', 'Banana', 'Morango']\n",
    "frutas.extend(['Abacaxi', 'Uva'])\n",
    "print(frutas)"
   ]
  },
  {
   "cell_type": "code",
   "execution_count": 4,
   "metadata": {},
   "outputs": [
    {
     "name": "stdout",
     "output_type": "stream",
     "text": [
      "Lista de frutas atualizada:  ['Maça', 'Morango', 'Abacaxi', 'Uva']\n"
     ]
    }
   ],
   "source": [
    "del frutas[1]\n",
    "print(\"Lista de frutas atualizada: \", frutas)"
   ]
  },
  {
   "cell_type": "code",
   "execution_count": 5,
   "metadata": {},
   "outputs": [
    {
     "name": "stdout",
     "output_type": "stream",
     "text": [
      "[1, 2, 3, 4, 5]\n"
     ]
    }
   ],
   "source": [
    "numeros = []\n",
    "numeros.extend([1,2,3,4,5])\n",
    "print(numeros)"
   ]
  },
  {
   "cell_type": "code",
   "execution_count": 6,
   "metadata": {},
   "outputs": [
    {
     "name": "stdout",
     "output_type": "stream",
     "text": [
      "A lista atualizada de numeros é:  [1, 2, 4, 5]\n"
     ]
    }
   ],
   "source": [
    "numeros.remove(3)\n",
    "print(\"A lista atualizada de numeros é: \", numeros)"
   ]
  },
  {
   "cell_type": "code",
   "execution_count": 7,
   "metadata": {},
   "outputs": [
    {
     "name": "stdout",
     "output_type": "stream",
     "text": [
      "Lista concatenada:  [1, 2, 3, 4, 5, 6]\n"
     ]
    }
   ],
   "source": [
    "lista1 = [1,2,3]\n",
    "lista2 = [4,5,6]\n",
    "\n",
    "lista_concatenada = lista1 + lista2\n",
    "print(\"Lista concatenada: \", lista_concatenada)"
   ]
  },
  {
   "cell_type": "code",
   "execution_count": 8,
   "metadata": {},
   "outputs": [
    {
     "name": "stdout",
     "output_type": "stream",
     "text": [
      "Numeros do terceiro ao sexto:  [3, 4, 5, 6]\n"
     ]
    }
   ],
   "source": [
    "numbers = list(range(1,11))\n",
    "print(\"Numeros do terceiro ao sexto: \", numbers[2:6])"
   ]
  },
  {
   "cell_type": "code",
   "execution_count": 9,
   "metadata": {},
   "outputs": [
    {
     "name": "stdout",
     "output_type": "stream",
     "text": [
      "Números do primeiro ao quinto, saltando de dois em dois:   [1, 3, 5]\n"
     ]
    }
   ],
   "source": [
    "print(\"Números do primeiro ao quinto, saltando de dois em dois:  \", numbers[:5:2])"
   ]
  },
  {
   "cell_type": "code",
   "execution_count": 15,
   "metadata": {},
   "outputs": [
    {
     "data": {
      "text/plain": [
       "'\\n1. Crie uma lista com os números de 1 a 10 e imprima-a.\\n2. Crie uma lista vazia e adicione os números pares de 1 a 10 a ela.\\n3. Dada uma lista de números, encontre o maior elemento.\\n4. Dada uma lista de palavras, crie uma nova lista com todas as palavras em maiúsculas.\\n5. Dada uma lista de números, calcule a soma de todos os elementos.\\n6. Dada uma lista de números, conte quantos números são maiores que 5.\\n7. Dada uma lista de strings, ordene-a em ordem alfabética.\\n8. Dada uma lista de números, remova os elementos repetidos.\\n9. Dada uma lista de strings, encontre a palavra mais longa.\\n10. Dada uma lista de listas, concatene todas as sublistas em uma única lista.\\n\\n'"
      ]
     },
     "execution_count": 15,
     "metadata": {},
     "output_type": "execute_result"
    }
   ],
   "source": [
    "'''\n",
    "1. Crie uma lista com os números de 1 a 10 e imprima-a.\n",
    "2. Crie uma lista vazia e adicione os números pares de 1 a 10 a ela.\n",
    "3. Dada uma lista de números, encontre o maior elemento.\n",
    "4. Dada uma lista de palavras, crie uma nova lista com todas as palavras em maiúsculas.\n",
    "5. Dada uma lista de números, calcule a soma de todos os elementos.\n",
    "6. Dada uma lista de números, conte quantos números são maiores que 5.\n",
    "7. Dada uma lista de strings, ordene-a em ordem alfabética.\n",
    "8. Dada uma lista de números, remova os elementos repetidos.\n",
    "9. Dada uma lista de strings, encontre a palavra mais longa.\n",
    "10. Dada uma lista de listas, concatene todas as sublistas em uma única lista.\n",
    "\n",
    "'''\n"
   ]
  },
  {
   "cell_type": "code",
   "execution_count": 16,
   "metadata": {},
   "outputs": [
    {
     "name": "stdout",
     "output_type": "stream",
     "text": [
      "[1, 2, 3, 4, 5, 6, 7, 8, 9, 10]\n"
     ]
    }
   ],
   "source": [
    "lista = list(range(1,11))\n",
    "print(lista)"
   ]
  },
  {
   "cell_type": "code",
   "execution_count": 20,
   "metadata": {},
   "outputs": [
    {
     "name": "stdout",
     "output_type": "stream",
     "text": [
      "[[0], [2], [4], [6], [8], [10]]\n"
     ]
    }
   ],
   "source": [
    "listaPar = []\n",
    "for i in range (11):\n",
    "    if i%2 ==0:\n",
    "        listaPar.append([i])\n",
    "print(listaPar)\n",
    "\n"
   ]
  },
  {
   "cell_type": "code",
   "execution_count": 19,
   "metadata": {},
   "outputs": [
    {
     "name": "stdout",
     "output_type": "stream",
     "text": [
      "10\n"
     ]
    }
   ],
   "source": [
    "lista2 = list(range(1,11))\n",
    "print(max(lista2))\n"
   ]
  },
  {
   "cell_type": "code",
   "execution_count": 23,
   "metadata": {},
   "outputs": [
    {
     "name": "stdout",
     "output_type": "stream",
     "text": [
      "['BANANA', 'MAÇA', 'PERA']\n"
     ]
    }
   ],
   "source": [
    "palavras = ['banana', 'maça', 'pera']\n",
    "\n",
    "maiusculas = [palavra.upper() for palavra in palavras]\n",
    "print(maiusculas)"
   ]
  },
  {
   "cell_type": "code",
   "execution_count": 24,
   "metadata": {},
   "outputs": [
    {
     "name": "stdout",
     "output_type": "stream",
     "text": [
      "30\n"
     ]
    }
   ],
   "source": [
    "numbers = [2,4,6,8,10]\n",
    "soma = sum(numbers)\n",
    "print(soma)"
   ]
  },
  {
   "cell_type": "code",
   "execution_count": null,
   "metadata": {},
   "outputs": [],
   "source": [
    "numeros2 = [3,7,10,2,8,5]\n",
    "contagem = 0 \n",
    "for num in numeros:\n",
    "    if num > 5:\n",
    "        print(num)\n",
    "    contagem +=1\n",
    "print('Quantidade de números maiores que 5: ', contagem)\n",
    "\n",
    "\n"
   ]
  },
  {
   "cell_type": "code",
   "execution_count": null,
   "metadata": {},
   "outputs": [],
   "source": [
    "palavras = ['banana', 'maca', 'abacaxi', 'laranja']\n",
    "palavras.sort()\n"
   ]
  },
  {
   "cell_type": "code",
   "execution_count": null,
   "metadata": {},
   "outputs": [],
   "source": []
  },
  {
   "cell_type": "code",
   "execution_count": 25,
   "metadata": {},
   "outputs": [
    {
     "data": {
      "text/plain": [
       "3"
      ]
     },
     "execution_count": 25,
     "metadata": {},
     "output_type": "execute_result"
    }
   ],
   "source": [
    "## Busca linear\n",
    "\n",
    "def busca_linear(array, n, x):\n",
    "    for i in range(0,n):\n",
    "        if array[i] == x:\n",
    "            return i \n",
    "    return -1\n",
    "\n",
    "array = [2,4,0,1,9]\n",
    "x =1\n",
    "n =len(array)\n",
    "\n",
    "resultado = busca_linear(array, n, x)\n",
    "resultado"
   ]
  }
 ],
 "metadata": {
  "kernelspec": {
   "display_name": "Python 3",
   "language": "python",
   "name": "python3"
  },
  "language_info": {
   "codemirror_mode": {
    "name": "ipython",
    "version": 3
   },
   "file_extension": ".py",
   "mimetype": "text/x-python",
   "name": "python",
   "nbconvert_exporter": "python",
   "pygments_lexer": "ipython3",
   "version": "3.11.4"
  },
  "orig_nbformat": 4
 },
 "nbformat": 4,
 "nbformat_minor": 2
}
